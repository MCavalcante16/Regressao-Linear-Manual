{
 "cells": [
  {
   "cell_type": "markdown",
   "metadata": {},
   "source": [
    "# Análise de dados utilizando métodos univariados"
   ]
  },
  {
   "cell_type": "markdown",
   "metadata": {},
   "source": [
    "## Dados"
   ]
  },
  {
   "cell_type": "code",
   "execution_count": 1,
   "metadata": {},
   "outputs": [],
   "source": [
    "import numpy as np\n",
    "import matplotlib.pyplot as plt\n",
    "\n",
    "\n",
    "#Usando NumPy\n",
    "dados = np.genfromtxt(\"data/housing.data\", skip_header=0)\n",
    "\n",
    "#Embaralhando as amostras\n",
    "np.random.shuffle(dados)\n",
    "\n",
    "#Separa a variável LSTAT\n",
    "X = dados[:,12]\n",
    "\n",
    "#Separa a variável MEDV\n",
    "y = dados[:,13]\n",
    "\n",
    "#Normalização\n",
    "X = (X - X.min()) / (X.max() - X.min())"
   ]
  },
  {
   "cell_type": "code",
   "execution_count": 2,
   "metadata": {},
   "outputs": [
    {
     "data": {
      "text/plain": [
       "506"
      ]
     },
     "execution_count": 2,
     "metadata": {},
     "output_type": "execute_result"
    }
   ],
   "source": [
    "X.shape[0]"
   ]
  },
  {
   "cell_type": "code",
   "execution_count": 3,
   "metadata": {},
   "outputs": [
    {
     "data": {
      "text/plain": [
       "506"
      ]
     },
     "execution_count": 3,
     "metadata": {},
     "output_type": "execute_result"
    }
   ],
   "source": [
    "y.shape[0]"
   ]
  },
  {
   "cell_type": "code",
   "execution_count": 4,
   "metadata": {},
   "outputs": [],
   "source": [
    "from sklearn.model_selection import train_test_split\n",
    "\n",
    "X_train, X_test, y_train, y_test = train_test_split(X, y, test_size=0.2)"
   ]
  },
  {
   "cell_type": "markdown",
   "metadata": {},
   "source": [
    "## Regressão Linear Analítica Univariada"
   ]
  },
  {
   "cell_type": "code",
   "execution_count": 5,
   "metadata": {},
   "outputs": [],
   "source": [
    "import maurikit_learn as ml"
   ]
  },
  {
   "cell_type": "code",
   "execution_count": 6,
   "metadata": {},
   "outputs": [],
   "source": [
    "LRAU = ml.LinearRegressionAnalyticUnivariate()"
   ]
  },
  {
   "cell_type": "code",
   "execution_count": 7,
   "metadata": {},
   "outputs": [
    {
     "name": "stdout",
     "output_type": "stream",
     "text": [
      "Coeficientes - b0: 32.70431516339386 - b1: -34.07693456514607\n"
     ]
    }
   ],
   "source": [
    "LRAU.fit(X_train, y_train)"
   ]
  },
  {
   "cell_type": "code",
   "execution_count": 8,
   "metadata": {},
   "outputs": [],
   "source": [
    "y_predicted = LRAU.predict(X_test)\n",
    "y_predicted_train = LRAU.predict(X_train)"
   ]
  },
  {
   "cell_type": "code",
   "execution_count": 9,
   "metadata": {
    "scrolled": false
   },
   "outputs": [
    {
     "data": {
      "text/plain": [
       "<matplotlib.legend.Legend at 0x18779982dc8>"
      ]
     },
     "execution_count": 9,
     "metadata": {},
     "output_type": "execute_result"
    },
    {
     "data": {
      "image/png": "[encoded data removed]",
      "text/plain": [
       "<Figure size 432x288 with 1 Axes>"
      ]
     },
     "metadata": {
      "needs_background": "light"
     },
     "output_type": "display_data"
    }
   ],
   "source": [
    "plt.plot(X_test, y_test, 'ro', label='Real')\n",
    "plt.plot(X_test, y_predicted, label='Predicted')\n",
    "plt.xlabel('LSTAT')\n",
    "plt.ylabel('MEDV')\n",
    "plt.legend()"
   ]
  },
  {
   "cell_type": "markdown",
   "metadata": {},
   "source": [
    "### Erros"
   ]
  },
  {
   "cell_type": "code",
   "execution_count": 10,
   "metadata": {},
   "outputs": [
    {
     "name": "stdout",
     "output_type": "stream",
     "text": [
      "Conjunto de Teste: MSE: 40.94687813192892 - R2: 0.5818824056035412\n",
      "Conjunto de Treino: MSE: 37.87935516791809 - R2: 0.5322324848771026\n"
     ]
    }
   ],
   "source": [
    "mse = ml.MSE(y_test, y_predicted)\n",
    "r2 = ml.R2(y_test, y_predicted)\n",
    "print('Conjunto de Teste: MSE: ' + str(mse) + ' - ' + 'R2: ' + str(r2) )\n",
    "\n",
    "mse_train = ml.MSE(y_train, y_predicted_train)\n",
    "r2_train = ml.R2(y_train, y_predicted_train)\n",
    "print('Conjunto de Treino: MSE: ' + str(mse_train) + ' - ' + 'R2: ' + str(r2_train) )"
   ]
  },
  {
   "cell_type": "markdown",
   "metadata": {},
   "source": [
    "## Regressão Linear com Gradiente Descendente Univariada"
   ]
  },
  {
   "cell_type": "code",
   "execution_count": 11,
   "metadata": {},
   "outputs": [],
   "source": [
    "LRGU = ml.LinearRegressionGradientUnivariate()"
   ]
  },
  {
   "cell_type": "code",
   "execution_count": 12,
   "metadata": {},
   "outputs": [
    {
     "name": "stdout",
     "output_type": "stream",
     "text": [
      "Epoch: 0\n",
      "Epoch: 1\n",
      "Epoch: 2\n",
      "Epoch: 3\n",
      "Epoch: 4\n",
      "Epoch: 5\n",
      "Epoch: 6\n",
      "Epoch: 7\n",
      "Epoch: 8\n",
      "Epoch: 9\n",
      "Epoch: 10\n",
      "Epoch: 11\n",
      "Epoch: 12\n",
      "Epoch: 13\n",
      "Epoch: 14\n",
      "Epoch: 15\n",
      "Epoch: 16\n",
      "Epoch: 17\n",
      "Epoch: 18\n",
      "Epoch: 19\n",
      "Epoch: 20\n",
      "Epoch: 21\n",
      "Epoch: 22\n",
      "Epoch: 23\n",
      "Epoch: 24\n",
      "Epoch: 25\n",
      "Epoch: 26\n",
      "Epoch: 27\n",
      "Epoch: 28\n",
      "Epoch: 29\n",
      "Epoch: 30\n",
      "Epoch: 31\n",
      "Epoch: 32\n",
      "Epoch: 33\n",
      "Epoch: 34\n",
      "Epoch: 35\n",
      "Epoch: 36\n",
      "Epoch: 37\n",
      "Epoch: 38\n",
      "Epoch: 39\n",
      "Epoch: 40\n",
      "Epoch: 41\n",
      "Epoch: 42\n",
      "Epoch: 43\n",
      "Epoch: 44\n",
      "Epoch: 45\n",
      "Epoch: 46\n",
      "Epoch: 47\n",
      "Epoch: 48\n",
      "Epoch: 49\n",
      "Epoch: 50\n",
      "Epoch: 51\n",
      "Epoch: 52\n",
      "Epoch: 53\n",
      "Epoch: 54\n",
      "Epoch: 55\n",
      "Epoch: 56\n",
      "Epoch: 57\n",
      "Epoch: 58\n",
      "Epoch: 59\n",
      "Epoch: 60\n",
      "Epoch: 61\n",
      "Epoch: 62\n",
      "Epoch: 63\n",
      "Epoch: 64\n",
      "Epoch: 65\n",
      "Epoch: 66\n",
      "Epoch: 67\n",
      "Epoch: 68\n",
      "Epoch: 69\n",
      "Epoch: 70\n",
      "Epoch: 71\n",
      "Epoch: 72\n",
      "Epoch: 73\n",
      "Epoch: 74\n",
      "Epoch: 75\n",
      "Epoch: 76\n",
      "Epoch: 77\n",
      "Epoch: 78\n",
      "Epoch: 79\n",
      "Epoch: 80\n",
      "Epoch: 81\n",
      "Epoch: 82\n",
      "Epoch: 83\n",
      "Epoch: 84\n",
      "Epoch: 85\n",
      "Epoch: 86\n",
      "Epoch: 87\n",
      "Epoch: 88\n",
      "Epoch: 89\n",
      "Epoch: 90\n",
      "Epoch: 91\n",
      "Epoch: 92\n",
      "Epoch: 93\n",
      "Epoch: 94\n",
      "Epoch: 95\n",
      "Epoch: 96\n",
      "Epoch: 97\n",
      "Epoch: 98\n",
      "Epoch: 99\n",
      "Epoch: 100\n",
      "Epoch: 101\n",
      "Epoch: 102\n",
      "Epoch: 103\n",
      "Epoch: 104\n",
      "Epoch: 105\n",
      "Epoch: 106\n",
      "Epoch: 107\n",
      "Epoch: 108\n",
      "Epoch: 109\n",
      "Epoch: 110\n",
      "Epoch: 111\n",
      "Epoch: 112\n",
      "Epoch: 113\n",
      "Epoch: 114\n",
      "Epoch: 115\n",
      "Epoch: 116\n",
      "Epoch: 117\n",
      "Epoch: 118\n",
      "Epoch: 119\n",
      "Epoch: 120\n",
      "Epoch: 121\n",
      "Epoch: 122\n",
      "Epoch: 123\n",
      "Epoch: 124\n",
      "Epoch: 125\n",
      "Epoch: 126\n",
      "Epoch: 127\n",
      "Epoch: 128\n",
      "Epoch: 129\n",
      "Epoch: 130\n",
      "Epoch: 131\n",
      "Epoch: 132\n",
      "Epoch: 133\n",
      "Epoch: 134\n",
      "Epoch: 135\n",
      "Epoch: 136\n",
      "Epoch: 137\n",
      "Epoch: 138\n",
      "Epoch: 139\n",
      "Epoch: 140\n",
      "Epoch: 141\n",
      "Epoch: 142\n",
      "Epoch: 143\n",
      "Epoch: 144\n",
      "Epoch: 145\n",
      "Epoch: 146\n",
      "Epoch: 147\n",
      "Epoch: 148\n",
      "Epoch: 149\n",
      "Epoch: 150\n",
      "Epoch: 151\n",
      "Epoch: 152\n",
      "Epoch: 153\n",
      "Epoch: 154\n",
      "Epoch: 155\n",
      "Epoch: 156\n",
      "Epoch: 157\n",
      "Epoch: 158\n",
      "Epoch: 159\n",
      "Epoch: 160\n",
      "Epoch: 161\n",
      "Epoch: 162\n",
      "Epoch: 163\n",
      "Epoch: 164\n",
      "Epoch: 165\n",
      "Epoch: 166\n",
      "Epoch: 167\n",
      "Epoch: 168\n",
      "Epoch: 169\n",
      "Epoch: 170\n",
      "Epoch: 171\n",
      "Epoch: 172\n",
      "Epoch: 173\n",
      "Epoch: 174\n",
      "Epoch: 175\n",
      "Epoch: 176\n",
      "Epoch: 177\n",
      "Epoch: 178\n",
      "Epoch: 179\n",
      "Epoch: 180\n",
      "Epoch: 181\n",
      "Epoch: 182\n",
      "Epoch: 183\n",
      "Epoch: 184\n",
      "Epoch: 185\n",
      "Epoch: 186\n",
      "Epoch: 187\n",
      "Epoch: 188\n",
      "Epoch: 189\n",
      "Epoch: 190\n",
      "Epoch: 191\n",
      "Epoch: 192\n",
      "Epoch: 193\n",
      "Epoch: 194\n",
      "Epoch: 195\n",
      "Epoch: 196\n",
      "Epoch: 197\n",
      "Epoch: 198\n",
      "Epoch: 199\n",
      "Epoch: 200\n",
      "Epoch: 201\n",
      "Epoch: 202\n",
      "Epoch: 203\n",
      "Epoch: 204\n",
      "Epoch: 205\n",
      "Epoch: 206\n",
      "Epoch: 207\n",
      "Epoch: 208\n",
      "Epoch: 209\n",
      "Epoch: 210\n",
      "Epoch: 211\n",
      "Epoch: 212\n",
      "Epoch: 213\n",
      "Epoch: 214\n",
      "Epoch: 215\n",
      "Epoch: 216\n",
      "Epoch: 217\n",
      "Epoch: 218\n",
      "Epoch: 219\n",
      "Epoch: 220\n",
      "Epoch: 221\n",
      "Epoch: 222\n",
      "Epoch: 223\n",
      "Epoch: 224\n",
      "Epoch: 225\n",
      "Epoch: 226\n",
      "Epoch: 227\n",
      "Epoch: 228\n",
      "Epoch: 229\n",
      "Epoch: 230\n",
      "Epoch: 231\n",
      "Epoch: 232\n",
      "Epoch: 233\n",
      "Epoch: 234\n",
      "Epoch: 235\n",
      "Epoch: 236\n",
      "Epoch: 237\n",
      "Epoch: 238\n",
      "Epoch: 239\n",
      "Epoch: 240\n",
      "Epoch: 241\n",
      "Epoch: 242\n",
      "Epoch: 243\n",
      "Epoch: 244\n",
      "Epoch: 245\n",
      "Epoch: 246\n",
      "Epoch: 247\n",
      "Epoch: 248\n",
      "Epoch: 249\n",
      "Epoch: 250\n",
      "Epoch: 251\n",
      "Epoch: 252\n",
      "Epoch: 253\n",
      "Epoch: 254\n",
      "Epoch: 255\n",
      "Epoch: 256\n",
      "Epoch: 257\n",
      "Epoch: 258\n",
      "Epoch: 259\n",
      "Epoch: 260\n",
      "Epoch: 261\n",
      "Epoch: 262\n",
      "Epoch: 263\n",
      "Epoch: 264\n",
      "Epoch: 265\n",
      "Epoch: 266\n",
      "Epoch: 267\n",
      "Epoch: 268\n",
      "Epoch: 269\n",
      "Epoch: 270\n",
      "Epoch: 271\n",
      "Epoch: 272\n",
      "Epoch: 273\n",
      "Epoch: 274\n",
      "Epoch: 275\n",
      "Epoch: 276\n",
      "Epoch: 277\n",
      "Epoch: 278\n",
      "Epoch: 279\n",
      "Epoch: 280\n",
      "Epoch: 281\n",
      "Epoch: 282\n",
      "Epoch: 283\n",
      "Epoch: 284\n",
      "Epoch: 285\n",
      "Epoch: 286\n",
      "Epoch: 287\n",
      "Epoch: 288\n",
      "Epoch: 289\n",
      "Epoch: 290\n",
      "Epoch: 291\n",
      "Epoch: 292\n",
      "Epoch: 293\n",
      "Epoch: 294\n",
      "Epoch: 295\n",
      "Epoch: 296\n",
      "Epoch: 297\n",
      "Epoch: 298\n",
      "Epoch: 299\n",
      "Coeficientes - b0: 31.10769772423606 - b1: -28.87068239998656\n"
     ]
    }
   ],
   "source": [
    "LRGU.fit(X_train, y_train, learning_rate=0.2, epochs=300)"
   ]
  },
  {
   "cell_type": "code",
   "execution_count": 13,
   "metadata": {},
   "outputs": [],
   "source": [
    "y_predicted = LRGU.predict(X_test)\n",
    "y_predicted_train = LRGU.predict(X_train)"
   ]
  },
  {
   "cell_type": "code",
   "execution_count": 14,
   "metadata": {
    "scrolled": true
   },
   "outputs": [
    {
     "data": {
      "text/plain": [
       "<matplotlib.legend.Legend at 0x1877ba97e88>"
      ]
     },
     "execution_count": 14,
     "metadata": {},
     "output_type": "execute_result"
    },
    {
     "data": {
      "image/png": "[encoded data removed]",
      "text/plain": [
       "<Figure size 432x288 with 1 Axes>"
      ]
     },
     "metadata": {
      "needs_background": "light"
     },
     "output_type": "display_data"
    }
   ],
   "source": [
    "plt.plot(X_test, y_test, 'ro', label='Real')\n",
    "plt.plot(X_test, y_predicted, label='Predicted')\n",
    "plt.xlabel('LSTAT')\n",
    "plt.ylabel('MEDV')\n",
    "plt.legend()"
   ]
  },
  {
   "cell_type": "markdown",
   "metadata": {},
   "source": [
    "### Erros"
   ]
  },
  {
   "cell_type": "code",
   "execution_count": 15,
   "metadata": {},
   "outputs": [
    {
     "name": "stdout",
     "output_type": "stream",
     "text": [
      "Conjunto de Teste: MSE: 42.89833574630444 - R2: 0.5619556419401326\n",
      "Conjunto de Treino: MSE: 38.888318449981675 - R2: 0.5197729209481778\n"
     ]
    }
   ],
   "source": [
    "mse = ml.MSE(y_test, y_predicted)\n",
    "r2 = ml.R2(y_test, y_predicted)\n",
    "print('Conjunto de Teste: MSE: ' + str(mse) + ' - ' + 'R2: ' + str(r2) )\n",
    "\n",
    "mse_train = ml.MSE(y_train, y_predicted_train)\n",
    "r2_train = ml.R2(y_train, y_predicted_train)\n",
    "print('Conjunto de Treino: MSE: ' + str(mse_train) + ' - ' + 'R2: ' + str(r2_train) )"
   ]
  },
  {
   "cell_type": "markdown",
   "metadata": {},
   "source": [
    "## Regressão quadrática"
   ]
  },
  {
   "cell_type": "code",
   "execution_count": 16,
   "metadata": {},
   "outputs": [
    {
     "name": "stdout",
     "output_type": "stream",
     "text": [
      "Coeficientes: [ 38.60750101 -78.4073726   57.89262728]\n"
     ]
    }
   ],
   "source": [
    "QR = ml.PolinomialRegression()\n",
    "QR.fit(X_train, y_train, grau = 2)\n",
    "y_predicted = QR.predict(np.sort(X_test,axis=0))\n",
    "y_predicted_train = QR.predict(np.sort(X_train,axis=0))"
   ]
  },
  {
   "cell_type": "code",
   "execution_count": 17,
   "metadata": {
    "scrolled": true
   },
   "outputs": [
    {
     "data": {
      "text/plain": [
       "<matplotlib.legend.Legend at 0x1877bb1c888>"
      ]
     },
     "execution_count": 17,
     "metadata": {},
     "output_type": "execute_result"
    },
    {
     "data": {
      "image/png": "[encoded data removed]",
      "text/plain": [
       "<Figure size 432x288 with 1 Axes>"
      ]
     },
     "metadata": {
      "needs_background": "light"
     },
     "output_type": "display_data"
    }
   ],
   "source": [
    "plt.plot(X_test, y_test, 'ro', label='Real')\n",
    "plt.plot(np.sort(X_test,axis=0), y_predicted, label='Predicted')\n",
    "plt.xlabel('LSTAT')\n",
    "plt.ylabel('MEDV')\n",
    "plt.legend()"
   ]
  },
  {
   "cell_type": "markdown",
   "metadata": {},
   "source": [
    "### Erros"
   ]
  },
  {
   "cell_type": "code",
   "execution_count": 18,
   "metadata": {},
   "outputs": [
    {
     "name": "stdout",
     "output_type": "stream",
     "text": [
      "Conjunto de Teste: MSE: 170.66618972946625 - R2: -0.7427100660660915\n",
      "Conjunto de Treino: MSE: 142.92140286597774 - R2: -0.7649188899899466\n"
     ]
    }
   ],
   "source": [
    "mse = ml.MSE(y_test, y_predicted)\n",
    "r2 = ml.R2(y_test, y_predicted)\n",
    "print('Conjunto de Teste: MSE: ' + str(mse) + ' - ' + 'R2: ' + str(r2) )\n",
    "\n",
    "mse_train = ml.MSE(y_train, y_predicted_train)\n",
    "r2_train = ml.R2(y_train, y_predicted_train)\n",
    "print('Conjunto de Treino: MSE: ' + str(mse_train) + ' - ' + 'R2: ' + str(r2_train) )"
   ]
  },
  {
   "cell_type": "markdown",
   "metadata": {},
   "source": [
    "## Regressão Cúbica"
   ]
  },
  {
   "cell_type": "code",
   "execution_count": 19,
   "metadata": {},
   "outputs": [
    {
     "name": "stdout",
     "output_type": "stream",
     "text": [
      "Coeficientes: [  41.86536499 -119.48826874  179.17607814  -95.28896491]\n"
     ]
    }
   ],
   "source": [
    "QR.fit(X_train, y_train, grau = 3)\n",
    "y_predicted = QR.predict(np.sort(X_test,axis=0))\n",
    "y_predicted_train = QR.predict(np.sort(X_train,axis=0))"
   ]
  },
  {
   "cell_type": "code",
   "execution_count": 20,
   "metadata": {
    "scrolled": true
   },
   "outputs": [
    {
     "data": {
      "text/plain": [
       "<matplotlib.legend.Legend at 0x1877cb5afc8>"
      ]
     },
     "execution_count": 20,
     "metadata": {},
     "output_type": "execute_result"
    },
    {
     "data": {
      "image/png": "[encoded data removed]",
      "text/plain": [
       "<Figure size 432x288 with 1 Axes>"
      ]
     },
     "metadata": {
      "needs_background": "light"
     },
     "output_type": "display_data"
    }
   ],
   "source": [
    "plt.plot(X_test, y_test, 'ro', label='Real')\n",
    "plt.plot(np.sort(X_test,axis=0), y_predicted, label='Predicted')\n",
    "plt.xlabel('LSTAT')\n",
    "plt.ylabel('MEDV')\n",
    "plt.legend()"
   ]
  },
  {
   "cell_type": "markdown",
   "metadata": {},
   "source": [
    "### Erros"
   ]
  },
  {
   "cell_type": "code",
   "execution_count": 21,
   "metadata": {},
   "outputs": [
    {
     "name": "stdout",
     "output_type": "stream",
     "text": [
      "Conjunto de Teste: MSE: 172.2601909280626 - R2: -0.7589867635099066\n",
      "Conjunto de Treino: MSE: 143.03113867737085 - R2: -0.7662740040774965\n"
     ]
    }
   ],
   "source": [
    "mse = ml.MSE(y_test, y_predicted)\n",
    "r2 = ml.R2(y_test, y_predicted)\n",
    "print('Conjunto de Teste: MSE: ' + str(mse) + ' - ' + 'R2: ' + str(r2) )\n",
    "\n",
    "mse_train = ml.MSE(y_train, y_predicted_train)\n",
    "r2_train = ml.R2(y_train, y_predicted_train)\n",
    "print('Conjunto de Treino: MSE: ' + str(mse_train) + ' - ' + 'R2: ' + str(r2_train) )"
   ]
  },
  {
   "cell_type": "markdown",
   "metadata": {},
   "source": [
    "## Conclusão "
   ]
  },
  {
   "cell_type": "markdown",
   "metadata": {},
   "source": [
    "Verificando as métricas de erro, percebemos que a Regressão Linear utilizando Gradiente Descendente foi mais eficaz na predição dos dados. "
   ]
  },
  {
   "cell_type": "markdown",
   "metadata": {},
   "source": [
    "# Análise de dados utilizando métodos multivariados"
   ]
  },
  {
   "cell_type": "markdown",
   "metadata": {},
   "source": [
    "## Dados"
   ]
  },
  {
   "cell_type": "code",
   "execution_count": 22,
   "metadata": {},
   "outputs": [],
   "source": [
    "#Usando NumPy\n",
    "dados = np.genfromtxt(\"data/trab1_data.txt\", skip_header=0)\n",
    "\n",
    "#Embaralhando as amostras\n",
    "np.random.shuffle(dados)\n",
    "\n",
    "#Separa as amostras\n",
    "X = dados[:,:5]\n",
    "\n",
    "#Separa o alvo\n",
    "y = dados[:,5]\n",
    "\n",
    "#Normalização\n",
    "X = (X - X.min()) / (X.max() - X.min())"
   ]
  },
  {
   "cell_type": "code",
   "execution_count": 23,
   "metadata": {},
   "outputs": [],
   "source": [
    "from sklearn.model_selection import train_test_split\n",
    "\n",
    "X_train, X_test, y_train, y_test = train_test_split(X, y, test_size=0.2)"
   ]
  },
  {
   "cell_type": "markdown",
   "metadata": {},
   "source": [
    "## Método Analítico"
   ]
  },
  {
   "cell_type": "code",
   "execution_count": 24,
   "metadata": {},
   "outputs": [
    {
     "name": "stdout",
     "output_type": "stream",
     "text": [
      "Coeficientes: [ 1.53468356  9.66863111 -0.45680321 -7.90249263 -1.02834206  1.07513351]\n"
     ]
    }
   ],
   "source": [
    "lr = ml.LinearRegression(method='analytic')\n",
    "lr.fit(X_train, y_train)\n",
    "y_predicted = lr.predict(X_test)\n",
    "y_predicted_train = lr.predict(X_train)"
   ]
  },
  {
   "cell_type": "markdown",
   "metadata": {},
   "source": [
    "#### Erros"
   ]
  },
  {
   "cell_type": "code",
   "execution_count": 25,
   "metadata": {},
   "outputs": [
    {
     "name": "stdout",
     "output_type": "stream",
     "text": [
      "Conjunto de Teste: MSE: 0.30247132017046857 - R2: 0.822454434218297\n",
      "Conjunto de Treino: MSE: 0.42685820349444875 - R2: 0.7107201944027801\n"
     ]
    }
   ],
   "source": [
    "mse = ml.MSE(y_test, y_predicted)\n",
    "r2 = ml.R2(y_test, y_predicted)\n",
    "print('Conjunto de Teste: MSE: ' + str(mse) + ' - ' + 'R2: ' + str(r2) )\n",
    "\n",
    "mse_train = ml.MSE(y_train, y_predicted_train)\n",
    "r2_train = ml.R2(y_train, y_predicted_train)\n",
    "print('Conjunto de Treino: MSE: ' + str(mse_train) + ' - ' + 'R2: ' + str(r2_train) )"
   ]
  },
  {
   "cell_type": "markdown",
   "metadata": {},
   "source": [
    "## Usando Gradiente Descendente"
   ]
  },
  {
   "cell_type": "code",
   "execution_count": 26,
   "metadata": {
    "scrolled": false
   },
   "outputs": [
    {
     "name": "stdout",
     "output_type": "stream",
     "text": [
      "Coeficientes: [1.36942686 1.13996036 1.22329964 1.07089704 1.08605302 1.10371848]\n"
     ]
    }
   ],
   "source": [
    "lrg = ml.LinearRegression(method='gradient')\n",
    "lrg.fit(X_train, y_train, learning_rate=0.004, epochs=20)\n",
    "y_predicted = lrg.predict(X_test)\n",
    "y_predicted_train = lrg.predict(X_train)"
   ]
  },
  {
   "cell_type": "markdown",
   "metadata": {},
   "source": [
    "#### Erro a cada época"
   ]
  },
  {
   "cell_type": "code",
   "execution_count": 27,
   "metadata": {
    "scrolled": false
   },
   "outputs": [
    {
     "data": {
      "image/png": "[encoded data removed]",
      "text/plain": [
       "<Figure size 432x288 with 1 Axes>"
      ]
     },
     "metadata": {
      "needs_background": "light"
     },
     "output_type": "display_data"
    }
   ],
   "source": [
    "plt.plot(range(0, 20), lrg.mses)\n",
    "plt.xlabel('Epoch')\n",
    "plt.ylabel('MSE')\n",
    "plt.show()"
   ]
  },
  {
   "cell_type": "markdown",
   "metadata": {},
   "source": [
    "#### MSE e R2"
   ]
  },
  {
   "cell_type": "code",
   "execution_count": 28,
   "metadata": {},
   "outputs": [
    {
     "name": "stdout",
     "output_type": "stream",
     "text": [
      "Conjunto de Teste: MSE: 1.0227259765842416 - R2: 0.39967709318702427\n",
      "Conjunto de Treino: MSE: 0.7345135878906685 - R2: 0.5022235811000588\n"
     ]
    }
   ],
   "source": [
    "mse = ml.MSE(y_test, y_predicted)\n",
    "r2 = ml.R2(y_test, y_predicted)\n",
    "print('Conjunto de Teste: MSE: ' + str(mse) + ' - ' + 'R2: ' + str(r2) )\n",
    "\n",
    "mse_train = ml.MSE(y_train, y_predicted_train)\n",
    "r2_train = ml.R2(y_train, y_predicted_train)\n",
    "print('Conjunto de Treino: MSE: ' + str(mse_train) + ' - ' + 'R2: ' + str(r2_train) )"
   ]
  },
  {
   "cell_type": "markdown",
   "metadata": {},
   "source": [
    "## Usando Gradiente Descendente Estocástico"
   ]
  },
  {
   "cell_type": "code",
   "execution_count": 29,
   "metadata": {},
   "outputs": [
    {
     "name": "stdout",
     "output_type": "stream",
     "text": [
      "Coeficientes: [1.34135783 1.12943793 1.20645378 1.06557605 1.07959059 1.09592896]\n"
     ]
    }
   ],
   "source": [
    "lrg = ml.LinearRegression(method='gradient-stochastic')\n",
    "lrg.fit(X_train, y_train, learning_rate=0.0001, epochs=20)\n",
    "y_predicted = lrg.predict(X_test)\n",
    "y_predicted_train = lrg.predict(X_train)"
   ]
  },
  {
   "cell_type": "markdown",
   "metadata": {},
   "source": [
    "#### Erro a cada época"
   ]
  },
  {
   "cell_type": "code",
   "execution_count": 30,
   "metadata": {},
   "outputs": [
    {
     "data": {
      "image/png": "[encoded data removed]",
      "text/plain": [
       "<Figure size 432x288 with 1 Axes>"
      ]
     },
     "metadata": {
      "needs_background": "light"
     },
     "output_type": "display_data"
    }
   ],
   "source": [
    "plt.plot(range(0, 20), lrg.mses)\n",
    "plt.xlabel('Epoch')\n",
    "plt.ylabel('MSE')\n",
    "plt.show()"
   ]
  },
  {
   "cell_type": "markdown",
   "metadata": {},
   "source": [
    "#### MSE e R2"
   ]
  },
  {
   "cell_type": "code",
   "execution_count": 31,
   "metadata": {},
   "outputs": [
    {
     "name": "stdout",
     "output_type": "stream",
     "text": [
      "Conjunto de Teste: MSE: 1.0084576810438153 - R2: 0.4080523421297598\n",
      "Conjunto de Treino: MSE: 0.7363499992092878 - R2: 0.5009790537490607\n"
     ]
    }
   ],
   "source": [
    "mse = ml.MSE(y_test, y_predicted)\n",
    "r2 = ml.R2(y_test, y_predicted)\n",
    "print('Conjunto de Teste: MSE: ' + str(mse) + ' - ' + 'R2: ' + str(r2) )\n",
    "\n",
    "mse_train = ml.MSE(y_train, y_predicted_train)\n",
    "r2_train = ml.R2(y_train, y_predicted_train)\n",
    "print('Conjunto de Treino: MSE: ' + str(mse_train) + ' - ' + 'R2: ' + str(r2_train) )"
   ]
  },
  {
   "cell_type": "markdown",
   "metadata": {},
   "source": [
    "## Usando Regressão Linear Multivariada Regularizada - Usando Gradiente Descendente"
   ]
  },
  {
   "cell_type": "code",
   "execution_count": 61,
   "metadata": {},
   "outputs": [
    {
     "name": "stdout",
     "output_type": "stream",
     "text": [
      "Coeficientes: [1.39936353 1.08250771 1.19731799 0.98710948 1.00802257 1.03249107]\n"
     ]
    }
   ],
   "source": [
    "lrg = ml.LinearRegression(method='gradient')\n",
    "lrg.fit(X_train, y_train, learning_rate=0.005, epochs=25, regularizar=True)\n",
    "\n",
    "y_predicted_train = lrg.predict(X_train)\n",
    "mses_train = lrg.mses\n",
    "\n",
    "y_predicted_test = lrg.predict(X_test)\n",
    "mses_test = lrg.mses"
   ]
  },
  {
   "cell_type": "markdown",
   "metadata": {},
   "source": [
    "#### MSE e R2"
   ]
  },
  {
   "cell_type": "code",
   "execution_count": 62,
   "metadata": {},
   "outputs": [
    {
     "name": "stdout",
     "output_type": "stream",
     "text": [
      "Conjunto de Treino > MSE: 0.7544517301205353 - R2: 0.48871159547811527\n",
      "Conjunto de Test > MSE: 1.0283916337214072 - R2: 0.3963514479609702\n"
     ]
    }
   ],
   "source": [
    "mse_train = ml.MSE(y_train, y_predicted_train)\n",
    "r2_train = ml.R2(y_train, y_predicted_train)\n",
    "mse_test = ml.MSE(y_test, y_predicted_test)\n",
    "r2_test = ml.R2(y_test, y_predicted_test)\n",
    "print('Conjunto de Treino > MSE: ' + str(mse_train) + ' - ' + 'R2: ' + str(r2_train) )\n",
    "print('Conjunto de Test > MSE: ' + str(mse_test) + ' - ' + 'R2: ' + str(r2_test) )"
   ]
  },
  {
   "cell_type": "markdown",
   "metadata": {},
   "source": [
    "#### MSE com Lambda = 1"
   ]
  },
  {
   "cell_type": "code",
   "execution_count": 64,
   "metadata": {},
   "outputs": [
    {
     "data": {
      "image/png": "[encoded data removed]",
      "text/plain": [
       "<Figure size 432x288 with 1 Axes>"
      ]
     },
     "metadata": {
      "needs_background": "light"
     },
     "output_type": "display_data"
    }
   ],
   "source": [
    "plt.plot(range(0, 25), mses_train, label='Conjunto de Treino')\n",
    "plt.plot(range(0, 25), mses_test, label='Conjunto de Teste')\n",
    "plt.xlabel('Epoch')\n",
    "plt.ylabel('MSE')\n",
    "plt.show()"
   ]
  },
  {
   "cell_type": "markdown",
   "metadata": {},
   "source": [
    "#### MSE com Lambda = 2"
   ]
  },
  {
   "cell_type": "code",
   "execution_count": 79,
   "metadata": {},
   "outputs": [
    {
     "name": "stdout",
     "output_type": "stream",
     "text": [
      "Coeficientes: [1.53659289 0.94004054 1.16593347 0.73613538 0.78188478 0.83541507]\n"
     ]
    },
    {
     "data": {
      "image/png": "[encoded data removed]",
      "text/plain": [
       "<Figure size 432x288 with 1 Axes>"
      ]
     },
     "metadata": {
      "needs_background": "light"
     },
     "output_type": "display_data"
    }
   ],
   "source": [
    "lrg = ml.LinearRegression(method='gradient')\n",
    "lrg.fit(X_train, y_train, learning_rate=0.005, epochs=100, regularizar=True, regularizacao = 2)\n",
    "\n",
    "y_predicted_train = lrg.predict(X_train)\n",
    "mses_train = lrg.mses\n",
    "\n",
    "y_predicted_test = lrg.predict(X_test)\n",
    "mses_test = lrg.mses\n",
    "\n",
    "plt.plot(range(0, 100), mses_train, label='Conjunto de Treino')\n",
    "plt.plot(range(0, 100), mses_test, label='Conjunto de Teste')\n",
    "plt.xlabel('Epoch')\n",
    "plt.ylabel('MSE')\n",
    "plt.show()"
   ]
  },
  {
   "cell_type": "markdown",
   "metadata": {},
   "source": [
    "#### MSE com Lambda = 3"
   ]
  },
  {
   "cell_type": "code",
   "execution_count": 75,
   "metadata": {},
   "outputs": [
    {
     "name": "stdout",
     "output_type": "stream",
     "text": [
      "Coeficientes: [1.19794102 0.82555941 0.96510326 0.70335457 0.73027291 0.76221718]\n"
     ]
    },
    {
     "data": {
      "image/png": "[encoded data removed]",
      "text/plain": [
       "<Figure size 432x288 with 1 Axes>"
      ]
     },
     "metadata": {
      "needs_background": "light"
     },
     "output_type": "display_data"
    }
   ],
   "source": [
    "lrg = ml.LinearRegression(method='gradient')\n",
    "lrg.fit(X_train, y_train, learning_rate=0.005, epochs=50, regularizar=True, regularizacao = 3)\n",
    "\n",
    "y_predicted_train = lrg.predict(X_train)\n",
    "mses_train = lrg.mses\n",
    "\n",
    "y_predicted_test = lrg.predict(X_test)\n",
    "mses_test = lrg.mses\n",
    "\n",
    "plt.plot(range(0, 50), mses_train, label='Conjunto de Treino')\n",
    "plt.plot(range(0, 50), mses_test, label='Conjunto de Teste')\n",
    "plt.xlabel('Epoch')\n",
    "plt.ylabel('MSE')\n",
    "plt.show()"
   ]
  },
  {
   "cell_type": "markdown",
   "metadata": {},
   "source": [
    "#### MSE com Lambda = 4"
   ]
  },
  {
   "cell_type": "code",
   "execution_count": 76,
   "metadata": {},
   "outputs": [
    {
     "name": "stdout",
     "output_type": "stream",
     "text": [
      "Coeficientes: [1.05201684 0.7291098  0.85187395 0.61954125 0.64367527 0.67251862]\n"
     ]
    },
    {
     "data": {
      "image/png": "[encoded data removed]",
      "text/plain": [
       "<Figure size 432x288 with 1 Axes>"
      ]
     },
     "metadata": {
      "needs_background": "light"
     },
     "output_type": "display_data"
    }
   ],
   "source": [
    "lrg = ml.LinearRegression(method='gradient')\n",
    "lrg.fit(X_train, y_train, learning_rate=0.005, epochs=50, regularizar=True, regularizacao = 4)\n",
    "\n",
    "y_predicted_train = lrg.predict(X_train)\n",
    "mses_train = lrg.mses\n",
    "\n",
    "y_predicted_test = lrg.predict(X_test)\n",
    "mses_test = lrg.mses\n",
    "\n",
    "plt.plot(range(0, 50), mses_train, label='Conjunto de Treino')\n",
    "plt.plot(range(0, 50), mses_test, label='Conjunto de Teste')\n",
    "plt.xlabel('Epoch')\n",
    "plt.ylabel('MSE')\n",
    "plt.show()"
   ]
  },
  {
   "cell_type": "markdown",
   "metadata": {},
   "source": [
    "#### MSE com Lambda = 5"
   ]
  },
  {
   "cell_type": "code",
   "execution_count": 78,
   "metadata": {},
   "outputs": [
    {
     "name": "stdout",
     "output_type": "stream",
     "text": [
      "Coeficientes: [0.9433447  0.65536908 0.76612604 0.55495194 0.57706495 0.60365744]\n"
     ]
    },
    {
     "data": {
      "image/png": "[encoded data removed]",
      "text/plain": [
       "<Figure size 432x288 with 1 Axes>"
      ]
     },
     "metadata": {
      "needs_background": "light"
     },
     "output_type": "display_data"
    }
   ],
   "source": [
    "lrg = ml.LinearRegression(method='gradient')\n",
    "lrg.fit(X_train, y_train, learning_rate=0.005, epochs=50, regularizar=True, regularizacao = 5)\n",
    "\n",
    "y_predicted_train = lrg.predict(X_train)\n",
    "mses_train = lrg.mses\n",
    "\n",
    "y_predicted_test = lrg.predict(X_test)\n",
    "mses_test = lrg.mses\n",
    "\n",
    "plt.plot(range(0, 50), mses_train, label='Conjunto de Treino')\n",
    "plt.plot(range(0, 50), mses_test, label='Conjunto de Teste')\n",
    "plt.xlabel('Epoch')\n",
    "plt.ylabel('MSE')\n",
    "plt.show()"
   ]
  },
  {
   "cell_type": "markdown",
   "metadata": {},
   "source": [
    "Como se é observado, os lambdas com valores 1 e 2 foram os únicos que proporcionaram um aprendizado eficaz para os coeficientes. Porém, o lambda = 1 demonstrou o MSE mais inferior ao lambda = 2"
   ]
  }
 ],
 "metadata": {
  "kernelspec": {
   "display_name": "Python 3",
   "language": "python",
   "name": "python3"
  },
  "language_info": {
   "codemirror_mode": {
    "name": "ipython",
    "version": 3
   },
   "file_extension": ".py",
   "mimetype": "text/x-python",
   "name": "python",
   "nbconvert_exporter": "python",
   "pygments_lexer": "ipython3",
   "version": "3.7.6"
  }
 },
 "nbformat": 4,
 "nbformat_minor": 4
}
