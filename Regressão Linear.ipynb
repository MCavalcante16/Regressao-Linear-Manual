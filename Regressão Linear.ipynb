{
 "cells": [
  {
   "cell_type": "markdown",
   "metadata": {},
   "source": [
    "# Análise de dados utilizando métodos univariados"
   ]
  },
  {
   "cell_type": "markdown",
   "metadata": {},
   "source": [
    "## Dados"
   ]
  },
  {
   "cell_type": "code",
   "execution_count": 1,
   "metadata": {},
   "outputs": [],
   "source": [
    "import numpy as np\n",
    "import matplotlib.pyplot as plt\n",
    "\n",
    "\n",
    "#Usando NumPy\n",
    "dados = np.genfromtxt(\"data/housing.data\", skip_header=0)\n",
    "\n",
    "#Embaralhando as amostras\n",
    "np.random.shuffle(dados)\n",
    "\n",
    "#Separa a variável LSTAT\n",
    "X = dados[:,12]\n",
    "\n",
    "#Separa a variável MEDV\n",
    "y = dados[:,13]\n",
    "\n",
    "#Normalização\n",
    "X = (X - X.min()) / (X.max() - X.min())"
   ]
  },
  {
   "cell_type": "code",
   "execution_count": 2,
   "metadata": {},
   "outputs": [
    {
     "data": {
      "text/plain": [
       "506"
      ]
     },
     "execution_count": 2,
     "metadata": {},
     "output_type": "execute_result"
    }
   ],
   "source": [
    "X.shape[0]"
   ]
  },
  {
   "cell_type": "code",
   "execution_count": 3,
   "metadata": {},
   "outputs": [
    {
     "data": {
      "text/plain": [
       "506"
      ]
     },
     "execution_count": 3,
     "metadata": {},
     "output_type": "execute_result"
    }
   ],
   "source": [
    "y.shape[0]"
   ]
  },
  {
   "cell_type": "code",
   "execution_count": 4,
   "metadata": {},
   "outputs": [],
   "source": [
    "from sklearn.model_selection import train_test_split\n",
    "\n",
    "X_train, X_test, y_train, y_test = train_test_split(X, y, test_size=0.2)"
   ]
  },
  {
   "cell_type": "markdown",
   "metadata": {},
   "source": [
    "## Regressão Linear Analítica Univariada"
   ]
  },
  {
   "cell_type": "code",
   "execution_count": 5,
   "metadata": {},
   "outputs": [],
   "source": [
    "import maurikit_learn as ml"
   ]
  },
  {
   "cell_type": "code",
   "execution_count": 6,
   "metadata": {},
   "outputs": [],
   "source": [
    "LRAU = ml.LinearRegressionAnalyticUnivariate()"
   ]
  },
  {
   "cell_type": "code",
   "execution_count": 7,
   "metadata": {},
   "outputs": [
    {
     "name": "stdout",
     "output_type": "stream",
     "text": [
      "Coeficientes - b0: 32.84769378260572 - b1: -34.33108832417272\n"
     ]
    }
   ],
   "source": [
    "LRAU.fit(X_train, y_train)"
   ]
  },
  {
   "cell_type": "code",
   "execution_count": 8,
   "metadata": {},
   "outputs": [],
   "source": [
    "y_predicted = LRAU.predict(X_test)\n",
    "y_predicted_train = LRAU.predict(X_train)"
   ]
  },
  {
   "cell_type": "code",
   "execution_count": 9,
   "metadata": {
    "scrolled": false
   },
   "outputs": [
    {
     "data": {
      "text/plain": [
       "<matplotlib.legend.Legend at 0x2652c6a2f48>"
      ]
     },
     "execution_count": 9,
     "metadata": {},
     "output_type": "execute_result"
    },
    {
     "data": {
      "image/png": "[encoded data removed]",
      "text/plain": [
       "<Figure size 432x288 with 1 Axes>"
      ]
     },
     "metadata": {
      "needs_background": "light"
     },
     "output_type": "display_data"
    }
   ],
   "source": [
    "plt.plot(X_test, y_test, 'ro', label='Real')\n",
    "plt.plot(X_test, y_predicted, label='Predicted')\n",
    "plt.xlabel('LSTAT')\n",
    "plt.ylabel('MEDV')\n",
    "plt.legend()"
   ]
  },
  {
   "cell_type": "markdown",
   "metadata": {},
   "source": [
    "### Erros"
   ]
  },
  {
   "cell_type": "code",
   "execution_count": 10,
   "metadata": {},
   "outputs": [
    {
     "name": "stdout",
     "output_type": "stream",
     "text": [
      "Conjunto de Teste: MSE: 32.39800979625169 - R2: 0.560849483913781\n",
      "Conjunto de Treino: MSE: 40.02108967967524 - R2: 0.5401404106174804\n"
     ]
    }
   ],
   "source": [
    "mse = ml.MSE(y_test, y_predicted)\n",
    "r2 = ml.R2(y_test, y_predicted)\n",
    "print('Conjunto de Teste: MSE: ' + str(mse) + ' - ' + 'R2: ' + str(r2) )\n",
    "\n",
    "mse_train = ml.MSE(y_train, y_predicted_train)\n",
    "r2_train = ml.R2(y_train, y_predicted_train)\n",
    "print('Conjunto de Treino: MSE: ' + str(mse_train) + ' - ' + 'R2: ' + str(r2_train) )"
   ]
  },
  {
   "cell_type": "markdown",
   "metadata": {},
   "source": [
    "## Regressão Linear com Gradiente Descendente Univariada"
   ]
  },
  {
   "cell_type": "code",
   "execution_count": 11,
   "metadata": {},
   "outputs": [],
   "source": [
    "LRGU = ml.LinearRegressionGradientUnivariate()"
   ]
  },
  {
   "cell_type": "code",
   "execution_count": 12,
   "metadata": {},
   "outputs": [
    {
     "name": "stdout",
     "output_type": "stream",
     "text": [
      "Epoch: 0\n",
      "Epoch: 1\n",
      "Epoch: 2\n",
      "Epoch: 3\n",
      "Epoch: 4\n",
      "Epoch: 5\n",
      "Epoch: 6\n",
      "Epoch: 7\n",
      "Epoch: 8\n",
      "Epoch: 9\n",
      "Epoch: 10\n",
      "Epoch: 11\n",
      "Epoch: 12\n",
      "Epoch: 13\n",
      "Epoch: 14\n",
      "Epoch: 15\n",
      "Epoch: 16\n",
      "Epoch: 17\n",
      "Epoch: 18\n",
      "Epoch: 19\n",
      "Epoch: 20\n",
      "Epoch: 21\n",
      "Epoch: 22\n",
      "Epoch: 23\n",
      "Epoch: 24\n",
      "Epoch: 25\n",
      "Epoch: 26\n",
      "Epoch: 27\n",
      "Epoch: 28\n",
      "Epoch: 29\n",
      "Epoch: 30\n",
      "Epoch: 31\n",
      "Epoch: 32\n",
      "Epoch: 33\n",
      "Epoch: 34\n",
      "Epoch: 35\n",
      "Epoch: 36\n",
      "Epoch: 37\n",
      "Epoch: 38\n",
      "Epoch: 39\n",
      "Epoch: 40\n",
      "Epoch: 41\n",
      "Epoch: 42\n",
      "Epoch: 43\n",
      "Epoch: 44\n",
      "Epoch: 45\n",
      "Epoch: 46\n",
      "Epoch: 47\n",
      "Epoch: 48\n",
      "Epoch: 49\n",
      "Epoch: 50\n",
      "Epoch: 51\n",
      "Epoch: 52\n",
      "Epoch: 53\n",
      "Epoch: 54\n",
      "Epoch: 55\n",
      "Epoch: 56\n",
      "Epoch: 57\n",
      "Epoch: 58\n",
      "Epoch: 59\n",
      "Epoch: 60\n",
      "Epoch: 61\n",
      "Epoch: 62\n",
      "Epoch: 63\n",
      "Epoch: 64\n",
      "Epoch: 65\n",
      "Epoch: 66\n",
      "Epoch: 67\n",
      "Epoch: 68\n",
      "Epoch: 69\n",
      "Epoch: 70\n",
      "Epoch: 71\n",
      "Epoch: 72\n",
      "Epoch: 73\n",
      "Epoch: 74\n",
      "Epoch: 75\n",
      "Epoch: 76\n",
      "Epoch: 77\n",
      "Epoch: 78\n",
      "Epoch: 79\n",
      "Epoch: 80\n",
      "Epoch: 81\n",
      "Epoch: 82\n",
      "Epoch: 83\n",
      "Epoch: 84\n",
      "Epoch: 85\n",
      "Epoch: 86\n",
      "Epoch: 87\n",
      "Epoch: 88\n",
      "Epoch: 89\n",
      "Epoch: 90\n",
      "Epoch: 91\n",
      "Epoch: 92\n",
      "Epoch: 93\n",
      "Epoch: 94\n",
      "Epoch: 95\n",
      "Epoch: 96\n",
      "Epoch: 97\n",
      "Epoch: 98\n",
      "Epoch: 99\n",
      "Epoch: 100\n",
      "Epoch: 101\n",
      "Epoch: 102\n",
      "Epoch: 103\n",
      "Epoch: 104\n",
      "Epoch: 105\n",
      "Epoch: 106\n",
      "Epoch: 107\n",
      "Epoch: 108\n",
      "Epoch: 109\n",
      "Epoch: 110\n",
      "Epoch: 111\n",
      "Epoch: 112\n",
      "Epoch: 113\n",
      "Epoch: 114\n",
      "Epoch: 115\n",
      "Epoch: 116\n",
      "Epoch: 117\n",
      "Epoch: 118\n",
      "Epoch: 119\n",
      "Epoch: 120\n",
      "Epoch: 121\n",
      "Epoch: 122\n",
      "Epoch: 123\n",
      "Epoch: 124\n",
      "Epoch: 125\n",
      "Epoch: 126\n",
      "Epoch: 127\n",
      "Epoch: 128\n",
      "Epoch: 129\n",
      "Epoch: 130\n",
      "Epoch: 131\n",
      "Epoch: 132\n",
      "Epoch: 133\n",
      "Epoch: 134\n",
      "Epoch: 135\n",
      "Epoch: 136\n",
      "Epoch: 137\n",
      "Epoch: 138\n",
      "Epoch: 139\n",
      "Epoch: 140\n",
      "Epoch: 141\n",
      "Epoch: 142\n",
      "Epoch: 143\n",
      "Epoch: 144\n",
      "Epoch: 145\n",
      "Epoch: 146\n",
      "Epoch: 147\n",
      "Epoch: 148\n",
      "Epoch: 149\n",
      "Epoch: 150\n",
      "Epoch: 151\n",
      "Epoch: 152\n",
      "Epoch: 153\n",
      "Epoch: 154\n",
      "Epoch: 155\n",
      "Epoch: 156\n",
      "Epoch: 157\n",
      "Epoch: 158\n",
      "Epoch: 159\n",
      "Epoch: 160\n",
      "Epoch: 161\n",
      "Epoch: 162\n",
      "Epoch: 163\n",
      "Epoch: 164\n",
      "Epoch: 165\n",
      "Epoch: 166\n",
      "Epoch: 167\n",
      "Epoch: 168\n",
      "Epoch: 169\n",
      "Epoch: 170\n",
      "Epoch: 171\n",
      "Epoch: 172\n",
      "Epoch: 173\n",
      "Epoch: 174\n",
      "Epoch: 175\n",
      "Epoch: 176\n",
      "Epoch: 177\n",
      "Epoch: 178\n",
      "Epoch: 179\n",
      "Epoch: 180\n",
      "Epoch: 181\n",
      "Epoch: 182\n",
      "Epoch: 183\n",
      "Epoch: 184\n",
      "Epoch: 185\n",
      "Epoch: 186\n",
      "Epoch: 187\n",
      "Epoch: 188\n",
      "Epoch: 189\n",
      "Epoch: 190\n",
      "Epoch: 191\n",
      "Epoch: 192\n",
      "Epoch: 193\n",
      "Epoch: 194\n",
      "Epoch: 195\n",
      "Epoch: 196\n",
      "Epoch: 197\n",
      "Epoch: 198\n",
      "Epoch: 199\n",
      "Epoch: 200\n",
      "Epoch: 201\n",
      "Epoch: 202\n",
      "Epoch: 203\n",
      "Epoch: 204\n",
      "Epoch: 205\n",
      "Epoch: 206\n",
      "Epoch: 207\n",
      "Epoch: 208\n",
      "Epoch: 209\n",
      "Epoch: 210\n",
      "Epoch: 211\n",
      "Epoch: 212\n",
      "Epoch: 213\n",
      "Epoch: 214\n",
      "Epoch: 215\n",
      "Epoch: 216\n",
      "Epoch: 217\n",
      "Epoch: 218\n",
      "Epoch: 219\n",
      "Epoch: 220\n",
      "Epoch: 221\n",
      "Epoch: 222\n",
      "Epoch: 223\n",
      "Epoch: 224\n",
      "Epoch: 225\n",
      "Epoch: 226\n",
      "Epoch: 227\n",
      "Epoch: 228\n",
      "Epoch: 229\n",
      "Epoch: 230\n",
      "Epoch: 231\n",
      "Epoch: 232\n",
      "Epoch: 233\n",
      "Epoch: 234\n",
      "Epoch: 235\n",
      "Epoch: 236\n",
      "Epoch: 237\n",
      "Epoch: 238\n",
      "Epoch: 239\n",
      "Epoch: 240\n",
      "Epoch: 241\n",
      "Epoch: 242\n",
      "Epoch: 243\n",
      "Epoch: 244\n",
      "Epoch: 245\n",
      "Epoch: 246\n",
      "Epoch: 247\n",
      "Epoch: 248\n",
      "Epoch: 249\n",
      "Epoch: 250\n",
      "Epoch: 251\n",
      "Epoch: 252\n",
      "Epoch: 253\n",
      "Epoch: 254\n",
      "Epoch: 255\n",
      "Epoch: 256\n",
      "Epoch: 257\n",
      "Epoch: 258\n",
      "Epoch: 259\n",
      "Epoch: 260\n",
      "Epoch: 261\n",
      "Epoch: 262\n",
      "Epoch: 263\n",
      "Epoch: 264\n",
      "Epoch: 265\n",
      "Epoch: 266\n",
      "Epoch: 267\n",
      "Epoch: 268\n",
      "Epoch: 269\n",
      "Epoch: 270\n",
      "Epoch: 271\n",
      "Epoch: 272\n",
      "Epoch: 273\n",
      "Epoch: 274\n",
      "Epoch: 275\n",
      "Epoch: 276\n",
      "Epoch: 277\n",
      "Epoch: 278\n",
      "Epoch: 279\n",
      "Epoch: 280\n",
      "Epoch: 281\n",
      "Epoch: 282\n",
      "Epoch: 283\n",
      "Epoch: 284\n",
      "Epoch: 285\n",
      "Epoch: 286\n",
      "Epoch: 287\n",
      "Epoch: 288\n",
      "Epoch: 289\n",
      "Epoch: 290\n",
      "Epoch: 291\n",
      "Epoch: 292\n",
      "Epoch: 293\n",
      "Epoch: 294\n",
      "Epoch: 295\n",
      "Epoch: 296\n",
      "Epoch: 297\n",
      "Epoch: 298\n",
      "Epoch: 299\n",
      "Coeficientes - b0: 31.411819317227664 - b1: -29.781386265743375\n"
     ]
    }
   ],
   "source": [
    "LRGU.fit(X_train, y_train, learning_rate=0.2, epochs=300)"
   ]
  },
  {
   "cell_type": "code",
   "execution_count": 13,
   "metadata": {},
   "outputs": [],
   "source": [
    "y_predicted = LRGU.predict(X_test)\n",
    "y_predicted_train = LRGU.predict(X_train)"
   ]
  },
  {
   "cell_type": "code",
   "execution_count": 14,
   "metadata": {
    "scrolled": true
   },
   "outputs": [
    {
     "data": {
      "text/plain": [
       "<matplotlib.legend.Legend at 0x2652c77aa08>"
      ]
     },
     "execution_count": 14,
     "metadata": {},
     "output_type": "execute_result"
    },
    {
     "data": {
      "image/png": "[encoded data removed]",
      "text/plain": [
       "<Figure size 432x288 with 1 Axes>"
      ]
     },
     "metadata": {
      "needs_background": "light"
     },
     "output_type": "display_data"
    }
   ],
   "source": [
    "plt.plot(X_test, y_test, 'ro', label='Real')\n",
    "plt.plot(X_test, y_predicted, label='Predicted')\n",
    "plt.xlabel('LSTAT')\n",
    "plt.ylabel('MEDV')\n",
    "plt.legend()"
   ]
  },
  {
   "cell_type": "markdown",
   "metadata": {},
   "source": [
    "### Erros"
   ]
  },
  {
   "cell_type": "code",
   "execution_count": 15,
   "metadata": {},
   "outputs": [
    {
     "name": "stdout",
     "output_type": "stream",
     "text": [
      "Conjunto de Teste: MSE: 33.31087248164041 - R2: 0.5484757571964478\n",
      "Conjunto de Treino: MSE: 40.84940373275755 - R2: 0.5306227247328892\n"
     ]
    }
   ],
   "source": [
    "mse = ml.MSE(y_test, y_predicted)\n",
    "r2 = ml.R2(y_test, y_predicted)\n",
    "print('Conjunto de Teste: MSE: ' + str(mse) + ' - ' + 'R2: ' + str(r2) )\n",
    "\n",
    "mse_train = ml.MSE(y_train, y_predicted_train)\n",
    "r2_train = ml.R2(y_train, y_predicted_train)\n",
    "print('Conjunto de Treino: MSE: ' + str(mse_train) + ' - ' + 'R2: ' + str(r2_train) )"
   ]
  },
  {
   "cell_type": "markdown",
   "metadata": {},
   "source": [
    "## Regressão quadrática"
   ]
  },
  {
   "cell_type": "code",
   "execution_count": 16,
   "metadata": {},
   "outputs": [
    {
     "name": "stdout",
     "output_type": "stream",
     "text": [
      "Coeficientes: [ 39.0745561  -80.00665552  57.89650201]\n"
     ]
    }
   ],
   "source": [
    "QR = ml.PolinomialRegression()\n",
    "QR.fit(X_train, y_train, grau = 2)\n",
    "y_predicted = QR.predict(np.sort(X_test,axis=0))\n",
    "y_predicted_train = QR.predict(np.sort(X_train,axis=0))"
   ]
  },
  {
   "cell_type": "code",
   "execution_count": 17,
   "metadata": {
    "scrolled": true
   },
   "outputs": [
    {
     "data": {
      "text/plain": [
       "<matplotlib.legend.Legend at 0x2652d7c87c8>"
      ]
     },
     "execution_count": 17,
     "metadata": {},
     "output_type": "execute_result"
    },
    {
     "data": {
      "image/png": "[encoded data removed]",
      "text/plain": [
       "<Figure size 432x288 with 1 Axes>"
      ]
     },
     "metadata": {
      "needs_background": "light"
     },
     "output_type": "display_data"
    }
   ],
   "source": [
    "plt.plot(X_test, y_test, 'ro', label='Real')\n",
    "plt.plot(np.sort(X_test,axis=0), y_predicted, label='Predicted')\n",
    "plt.xlabel('LSTAT')\n",
    "plt.ylabel('MEDV')\n",
    "plt.legend()"
   ]
  },
  {
   "cell_type": "markdown",
   "metadata": {},
   "source": [
    "### Erros"
   ]
  },
  {
   "cell_type": "code",
   "execution_count": 18,
   "metadata": {},
   "outputs": [
    {
     "name": "stdout",
     "output_type": "stream",
     "text": [
      "Conjunto de Teste: MSE: 129.50002217694754 - R2: -0.7553547866005927\n",
      "Conjunto de Treino: MSE: 147.1436379138312 - R2: -0.6907438916054431\n"
     ]
    }
   ],
   "source": [
    "mse = ml.MSE(y_test, y_predicted)\n",
    "r2 = ml.R2(y_test, y_predicted)\n",
    "print('Conjunto de Teste: MSE: ' + str(mse) + ' - ' + 'R2: ' + str(r2) )\n",
    "\n",
    "mse_train = ml.MSE(y_train, y_predicted_train)\n",
    "r2_train = ml.R2(y_train, y_predicted_train)\n",
    "print('Conjunto de Treino: MSE: ' + str(mse_train) + ' - ' + 'R2: ' + str(r2_train) )"
   ]
  },
  {
   "cell_type": "markdown",
   "metadata": {},
   "source": [
    "## Regressão Cúbica"
   ]
  },
  {
   "cell_type": "code",
   "execution_count": 19,
   "metadata": {},
   "outputs": [
    {
     "name": "stdout",
     "output_type": "stream",
     "text": [
      "Coeficientes: [  43.00164942 -128.12237857  194.93882994 -103.66090964]\n"
     ]
    }
   ],
   "source": [
    "QR.fit(X_train, y_train, grau = 3)\n",
    "y_predicted = QR.predict(np.sort(X_test,axis=0))\n",
    "y_predicted_train = QR.predict(np.sort(X_train,axis=0))"
   ]
  },
  {
   "cell_type": "code",
   "execution_count": 20,
   "metadata": {
    "scrolled": true
   },
   "outputs": [
    {
     "data": {
      "text/plain": [
       "<matplotlib.legend.Legend at 0x2652d837bc8>"
      ]
     },
     "execution_count": 20,
     "metadata": {},
     "output_type": "execute_result"
    },
    {
     "data": {
      "image/png": "[encoded data removed]",
      "text/plain": [
       "<Figure size 432x288 with 1 Axes>"
      ]
     },
     "metadata": {
      "needs_background": "light"
     },
     "output_type": "display_data"
    }
   ],
   "source": [
    "plt.plot(X_test, y_test, 'ro', label='Real')\n",
    "plt.plot(np.sort(X_test,axis=0), y_predicted, label='Predicted')\n",
    "plt.xlabel('LSTAT')\n",
    "plt.ylabel('MEDV')\n",
    "plt.legend()"
   ]
  },
  {
   "cell_type": "markdown",
   "metadata": {},
   "source": [
    "### Erros"
   ]
  },
  {
   "cell_type": "code",
   "execution_count": 21,
   "metadata": {},
   "outputs": [
    {
     "name": "stdout",
     "output_type": "stream",
     "text": [
      "Conjunto de Teste: MSE: 132.67145069617536 - R2: -0.7983430590194309\n",
      "Conjunto de Treino: MSE: 149.65399160453364 - R2: -0.7195889387206293\n"
     ]
    }
   ],
   "source": [
    "mse = ml.MSE(y_test, y_predicted)\n",
    "r2 = ml.R2(y_test, y_predicted)\n",
    "print('Conjunto de Teste: MSE: ' + str(mse) + ' - ' + 'R2: ' + str(r2) )\n",
    "\n",
    "mse_train = ml.MSE(y_train, y_predicted_train)\n",
    "r2_train = ml.R2(y_train, y_predicted_train)\n",
    "print('Conjunto de Treino: MSE: ' + str(mse_train) + ' - ' + 'R2: ' + str(r2_train) )"
   ]
  },
  {
   "cell_type": "markdown",
   "metadata": {},
   "source": [
    "## Conclusão "
   ]
  },
  {
   "cell_type": "markdown",
   "metadata": {},
   "source": [
    "Verificando as métricas de erro, percebemos que a Regressão Linear utilizando Gradiente Descendente foi mais eficaz na predição dos dados. "
   ]
  },
  {
   "cell_type": "markdown",
   "metadata": {},
   "source": [
    "# Análise de dados utilizando métodos multivariados"
   ]
  },
  {
   "cell_type": "markdown",
   "metadata": {},
   "source": [
    "## Dados"
   ]
  },
  {
   "cell_type": "code",
   "execution_count": 22,
   "metadata": {},
   "outputs": [],
   "source": [
    "#Usando NumPy\n",
    "dados = np.genfromtxt(\"data/trab1_data.txt\", skip_header=0)\n",
    "\n",
    "#Embaralhando as amostras\n",
    "np.random.shuffle(dados)\n",
    "\n",
    "#Separa as amostras\n",
    "X = dados[:,:5]\n",
    "\n",
    "#Separa o alvo\n",
    "y = dados[:,5]\n",
    "\n",
    "#Normalização\n",
    "X = (X - X.min()) / (X.max() - X.min())"
   ]
  },
  {
   "cell_type": "code",
   "execution_count": 23,
   "metadata": {},
   "outputs": [],
   "source": [
    "from sklearn.model_selection import train_test_split\n",
    "\n",
    "X_train, X_test, y_train, y_test = train_test_split(X, y, test_size=0.2)"
   ]
  },
  {
   "cell_type": "markdown",
   "metadata": {},
   "source": [
    "## Método Analítico"
   ]
  },
  {
   "cell_type": "code",
   "execution_count": 24,
   "metadata": {},
   "outputs": [
    {
     "name": "stdout",
     "output_type": "stream",
     "text": [
      "Coeficientes: [ 1.31425539  8.91219876 -0.58281425 -2.80355751 -0.96098585 -0.54579567]\n"
     ]
    }
   ],
   "source": [
    "lr = ml.LinearRegression(method='analytic')\n",
    "lr.fit(X_train, y_train)\n",
    "y_predicted = lr.predict(X_test)\n",
    "y_predicted_train = lr.predict(X_train)"
   ]
  },
  {
   "cell_type": "markdown",
   "metadata": {},
   "source": [
    "#### Erros"
   ]
  },
  {
   "cell_type": "code",
   "execution_count": 25,
   "metadata": {},
   "outputs": [
    {
     "name": "stdout",
     "output_type": "stream",
     "text": [
      "Conjunto de Teste: MSE: 0.5078262869318274 - R2: 0.7024027596367133\n",
      "Conjunto de Treino: MSE: 0.3658443314733053 - R2: 0.7524444065016368\n"
     ]
    }
   ],
   "source": [
    "mse = ml.MSE(y_test, y_predicted)\n",
    "r2 = ml.R2(y_test, y_predicted)\n",
    "print('Conjunto de Teste: MSE: ' + str(mse) + ' - ' + 'R2: ' + str(r2) )\n",
    "\n",
    "mse_train = ml.MSE(y_train, y_predicted_train)\n",
    "r2_train = ml.R2(y_train, y_predicted_train)\n",
    "print('Conjunto de Treino: MSE: ' + str(mse_train) + ' - ' + 'R2: ' + str(r2_train) )"
   ]
  },
  {
   "cell_type": "markdown",
   "metadata": {},
   "source": [
    "## Usando Gradiente Descendente"
   ]
  },
  {
   "cell_type": "code",
   "execution_count": 54,
   "metadata": {
    "scrolled": false
   },
   "outputs": [
    {
     "name": "stdout",
     "output_type": "stream",
     "text": [
      "Coeficientes: [1.31079764 1.13282968 1.20392051 1.0720115  1.09306517 1.10310216]\n"
     ]
    }
   ],
   "source": [
    "lrg = ml.LinearRegression(method='gradient')\n",
    "lrg.fit(X_train, y_train, learning_rate=0.0004, epochs=120)\n",
    "y_predicted = lrg.predict(X_test)\n",
    "y_predicted_train = lrg.predict(X_train)"
   ]
  },
  {
   "cell_type": "markdown",
   "metadata": {},
   "source": [
    "#### Erro a cada época"
   ]
  },
  {
   "cell_type": "code",
   "execution_count": 55,
   "metadata": {
    "scrolled": false
   },
   "outputs": [
    {
     "data": {
      "image/png": "[encoded data removed]",
      "text/plain": [
       "<Figure size 432x288 with 1 Axes>"
      ]
     },
     "metadata": {
      "needs_background": "light"
     },
     "output_type": "display_data"
    }
   ],
   "source": [
    "plt.plot(range(0, 120), lrg.mses)\n",
    "plt.xlabel('Epoch')\n",
    "plt.ylabel('MSE')\n",
    "plt.show()"
   ]
  },
  {
   "cell_type": "markdown",
   "metadata": {},
   "source": [
    "#### MSE e R2"
   ]
  },
  {
   "cell_type": "code",
   "execution_count": 56,
   "metadata": {},
   "outputs": [
    {
     "name": "stdout",
     "output_type": "stream",
     "text": [
      "Conjunto de Teste: MSE: 0.927526325116952 - R2: 0.4564494162229913\n",
      "Conjunto de Treino: MSE: 0.7553900322495007 - R2: 0.4888508262429704\n"
     ]
    }
   ],
   "source": [
    "mse = ml.MSE(y_test, y_predicted)\n",
    "r2 = ml.R2(y_test, y_predicted)\n",
    "print('Conjunto de Teste: MSE: ' + str(mse) + ' - ' + 'R2: ' + str(r2) )\n",
    "\n",
    "mse_train = ml.MSE(y_train, y_predicted_train)\n",
    "r2_train = ml.R2(y_train, y_predicted_train)\n",
    "print('Conjunto de Treino: MSE: ' + str(mse_train) + ' - ' + 'R2: ' + str(r2_train) )"
   ]
  },
  {
   "cell_type": "markdown",
   "metadata": {},
   "source": [
    "## Usando Gradiente Descendente Estocástico"
   ]
  },
  {
   "cell_type": "code",
   "execution_count": 62,
   "metadata": {},
   "outputs": [
    {
     "name": "stdout",
     "output_type": "stream",
     "text": [
      "Coeficientes: [1.29909012 1.12783613 1.1962427  1.06930274 1.08956353 1.09922491]\n"
     ]
    }
   ],
   "source": [
    "lrg = ml.LinearRegression(method='gradient-stochastic')\n",
    "lrg.fit(X_train, y_train, learning_rate=0.00001, epochs=125)\n",
    "y_predicted = lrg.predict(X_test)\n",
    "y_predicted_train = lrg.predict(X_train)"
   ]
  },
  {
   "cell_type": "markdown",
   "metadata": {},
   "source": [
    "#### Erro a cada época"
   ]
  },
  {
   "cell_type": "code",
   "execution_count": 64,
   "metadata": {},
   "outputs": [
    {
     "data": {
      "image/png": "[encoded data removed]",
      "text/plain": [
       "<Figure size 432x288 with 1 Axes>"
      ]
     },
     "metadata": {
      "needs_background": "light"
     },
     "output_type": "display_data"
    }
   ],
   "source": [
    "plt.plot(range(0, 125), lrg.mses)\n",
    "plt.xlabel('Epoch')\n",
    "plt.ylabel('MSE')\n",
    "plt.show()"
   ]
  },
  {
   "cell_type": "markdown",
   "metadata": {},
   "source": [
    "#### MSE e R2"
   ]
  },
  {
   "cell_type": "code",
   "execution_count": 65,
   "metadata": {},
   "outputs": [
    {
     "name": "stdout",
     "output_type": "stream",
     "text": [
      "Conjunto de Teste: MSE: 0.9321709826877743 - R2: 0.4537275459475072\n",
      "Conjunto de Treino: MSE: 0.7565782926088668 - R2: 0.48804676704842487\n"
     ]
    }
   ],
   "source": [
    "mse = ml.MSE(y_test, y_predicted)\n",
    "r2 = ml.R2(y_test, y_predicted)\n",
    "print('Conjunto de Teste: MSE: ' + str(mse) + ' - ' + 'R2: ' + str(r2) )\n",
    "\n",
    "mse_train = ml.MSE(y_train, y_predicted_train)\n",
    "r2_train = ml.R2(y_train, y_predicted_train)\n",
    "print('Conjunto de Treino: MSE: ' + str(mse_train) + ' - ' + 'R2: ' + str(r2_train) )"
   ]
  },
  {
   "cell_type": "markdown",
   "metadata": {},
   "source": [
    "## Usando Regressão Linear Multivariada Regularizada - Usando Gradiente Descendente"
   ]
  },
  {
   "cell_type": "code",
   "execution_count": 73,
   "metadata": {},
   "outputs": [
    {
     "name": "stdout",
     "output_type": "stream",
     "text": [
      "Coeficientes: [1.31913794 1.10336354 1.18978343 1.02922812 1.05490046 1.06714706]\n"
     ]
    }
   ],
   "source": [
    "lrg = ml.LinearRegression(method='gradient')\n",
    "lrg.fit(X_train, y_train, learning_rate=0.0005, epochs=125, regularizar=True)\n",
    "\n",
    "y_predicted_train = lrg.predict(X_train)\n",
    "mses_train = lrg.mses\n",
    "\n",
    "y_predicted_test = lrg.predict(X_test)\n",
    "mses_test = lrg.mses"
   ]
  },
  {
   "cell_type": "markdown",
   "metadata": {},
   "source": [
    "#### MSE e R2"
   ]
  },
  {
   "cell_type": "code",
   "execution_count": 74,
   "metadata": {},
   "outputs": [
    {
     "name": "stdout",
     "output_type": "stream",
     "text": [
      "Conjunto de Treino > MSE: 0.7659303606354808 - R2: 0.4817185105972669\n",
      "Conjunto de Test > MSE: 0.9492263201476382 - R2: 0.44373274754471903\n"
     ]
    }
   ],
   "source": [
    "mse_train = ml.MSE(y_train, y_predicted_train)\n",
    "r2_train = ml.R2(y_train, y_predicted_train)\n",
    "mse_test = ml.MSE(y_test, y_predicted_test)\n",
    "r2_test = ml.R2(y_test, y_predicted_test)\n",
    "print('Conjunto de Treino > MSE: ' + str(mse_train) + ' - ' + 'R2: ' + str(r2_train) )\n",
    "print('Conjunto de Test > MSE: ' + str(mse_test) + ' - ' + 'R2: ' + str(r2_test) )"
   ]
  },
  {
   "cell_type": "markdown",
   "metadata": {},
   "source": [
    "#### MSE com Lambda = 1"
   ]
  },
  {
   "cell_type": "code",
   "execution_count": 75,
   "metadata": {},
   "outputs": [
    {
     "data": {
      "image/png": "[encoded data removed]",
      "text/plain": [
       "<Figure size 432x288 with 1 Axes>"
      ]
     },
     "metadata": {
      "needs_background": "light"
     },
     "output_type": "display_data"
    }
   ],
   "source": [
    "plt.plot(range(0, 125), mses_train, label='Conjunto de Treino')\n",
    "plt.plot(range(0, 125), mses_test, label='Conjunto de Teste')\n",
    "plt.xlabel('Epoch')\n",
    "plt.ylabel('MSE')\n",
    "plt.show()"
   ]
  },
  {
   "cell_type": "markdown",
   "metadata": {},
   "source": [
    "#### MSE com Lambda = 2"
   ]
  },
  {
   "cell_type": "code",
   "execution_count": 79,
   "metadata": {},
   "outputs": [
    {
     "name": "stdout",
     "output_type": "stream",
     "text": [
      "Coeficientes: [1.43162079 1.07730866 1.221325   0.95186971 0.99552844 1.01627607]\n"
     ]
    },
    {
     "data": {
      "image/png": "[encoded data removed]",
      "text/plain": [
       "<Figure size 432x288 with 1 Axes>"
      ]
     },
     "metadata": {
      "needs_background": "light"
     },
     "output_type": "display_data"
    }
   ],
   "source": [
    "lrg = ml.LinearRegression(method='gradient')\n",
    "lrg.fit(X_train, y_train, learning_rate=0.0005, epochs=250, regularizar=True, regularizacao = 2)\n",
    "\n",
    "y_predicted_train = lrg.predict(X_train)\n",
    "mses_train = lrg.mses\n",
    "\n",
    "y_predicted_test = lrg.predict(X_test)\n",
    "mses_test = lrg.mses\n",
    "\n",
    "plt.plot(range(0, 250), mses_train, label='Conjunto de Treino')\n",
    "plt.plot(range(0, 250), mses_test, label='Conjunto de Teste')\n",
    "plt.xlabel('Epoch')\n",
    "plt.ylabel('MSE')\n",
    "plt.show()"
   ]
  },
  {
   "cell_type": "markdown",
   "metadata": {},
   "source": [
    "#### MSE com Lambda = 3"
   ]
  },
  {
   "cell_type": "code",
   "execution_count": 83,
   "metadata": {},
   "outputs": [
    {
     "name": "stdout",
     "output_type": "stream",
     "text": [
      "Coeficientes: [1.46481262 0.96826471 1.18589463 0.75544822 0.83224554 0.86786072]\n"
     ]
    },
    {
     "data": {
      "image/png": "[encoded data removed]",
      "text/plain": [
       "<Figure size 432x288 with 1 Axes>"
      ]
     },
     "metadata": {
      "needs_background": "light"
     },
     "output_type": "display_data"
    }
   ],
   "source": [
    "lrg = ml.LinearRegression(method='gradient')\n",
    "lrg.fit(X_train, y_train, learning_rate=0.0005, epochs=800, regularizar=True, regularizacao = 3)\n",
    "\n",
    "y_predicted_train = lrg.predict(X_train)\n",
    "mses_train = lrg.mses\n",
    "\n",
    "y_predicted_test = lrg.predict(X_test)\n",
    "mses_test = lrg.mses\n",
    "\n",
    "plt.plot(range(0, 800), mses_train, label='Conjunto de Treino')\n",
    "plt.plot(range(0, 800), mses_test, label='Conjunto de Teste')\n",
    "plt.xlabel('Epoch')\n",
    "plt.ylabel('MSE')\n",
    "plt.show()"
   ]
  },
  {
   "cell_type": "markdown",
   "metadata": {},
   "source": [
    "#### MSE com Lambda = 4"
   ]
  },
  {
   "cell_type": "code",
   "execution_count": 94,
   "metadata": {},
   "outputs": [
    {
     "name": "stdout",
     "output_type": "stream",
     "text": [
      "Coeficientes: [1.00054927 0.99966402 1.00001736 0.99936012 0.99946497 0.9995154 ]\n"
     ]
    },
    {
     "data": {
      "image/png": "[encoded data removed]",
      "text/plain": [
       "<Figure size 432x288 with 1 Axes>"
      ]
     },
     "metadata": {
      "needs_background": "light"
     },
     "output_type": "display_data"
    }
   ],
   "source": [
    "lrg = ml.LinearRegression(method='gradient')\n",
    "lrg.fit(X_train, y_train, learning_rate=0.00005, epochs=5, regularizar=True, regularizacao = 4)\n",
    "\n",
    "y_predicted_train = lrg.predict(X_train)\n",
    "mses_train = lrg.mses\n",
    "\n",
    "y_predicted_test = lrg.predict(X_test)\n",
    "mses_test = lrg.mses\n",
    "\n",
    "plt.plot(range(0, 5), mses_train, label='Conjunto de Treino')\n",
    "plt.plot(range(0, 5), mses_test, label='Conjunto de Teste')\n",
    "plt.xlabel('Epoch')\n",
    "plt.ylabel('MSE')\n",
    "plt.show()"
   ]
  },
  {
   "cell_type": "markdown",
   "metadata": {},
   "source": [
    "#### MSE com Lambda = 5"
   ]
  },
  {
   "cell_type": "code",
   "execution_count": 98,
   "metadata": {
    "scrolled": true
   },
   "outputs": [
    {
     "name": "stdout",
     "output_type": "stream",
     "text": [
      "Coeficientes: [1.00011981 0.99976561 0.99990698 0.99964401 0.99968596 0.99970614]\n"
     ]
    },
    {
     "data": {
      "image/png": "[encoded data removed]",
      "text/plain": [
       "<Figure size 432x288 with 1 Axes>"
      ]
     },
     "metadata": {
      "needs_background": "light"
     },
     "output_type": "display_data"
    }
   ],
   "source": [
    "lrg = ml.LinearRegression(method='gradient')\n",
    "lrg.fit(X_train, y_train, learning_rate=0.000005, epochs=20, regularizar=True, regularizacao = 5)\n",
    "\n",
    "y_predicted_train = lrg.predict(X_train)\n",
    "mses_train = lrg.mses\n",
    "\n",
    "y_predicted_test = lrg.predict(X_test)\n",
    "mses_test = lrg.mses\n",
    "\n",
    "plt.plot(range(0, 20), mses_train, label='Conjunto de Treino')\n",
    "plt.plot(range(0, 20), mses_test, label='Conjunto de Teste')\n",
    "plt.xlabel('Epoch')\n",
    "plt.ylabel('MSE')\n",
    "plt.show()"
   ]
  },
  {
   "cell_type": "markdown",
   "metadata": {},
   "source": [
    "Como se é observado, quanto maior o lambda, mais epocas sao necessarias para atingir um valor estavel de gradiente. Porém, a partir do lambda 4, a regularização torna a predição inviavel. "
   ]
  },
  {
   "cell_type": "code",
   "execution_count": null,
   "metadata": {},
   "outputs": [],
   "source": []
  }
 ],
 "metadata": {
  "kernelspec": {
   "display_name": "Python 3",
   "language": "python",
   "name": "python3"
  },
  "language_info": {
   "codemirror_mode": {
    "name": "ipython",
    "version": 3
   },
   "file_extension": ".py",
   "mimetype": "text/x-python",
   "name": "python",
   "nbconvert_exporter": "python",
   "pygments_lexer": "ipython3",
   "version": "3.7.6"
  }
 },
 "nbformat": 4,
 "nbformat_minor": 4
}
